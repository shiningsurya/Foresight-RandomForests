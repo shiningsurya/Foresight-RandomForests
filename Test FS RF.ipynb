{
 "cells": [
  {
   "cell_type": "markdown",
   "metadata": {},
   "source": [
    "# Testing Random Forests with Foresight\n",
    "\n",
    "There are two set of objects we'll have to comprehensive test.\n",
    "\n",
    "| Basic                  | Foresight enabled        |\n",
    "|------------------------|--------------------------|\n",
    "| DecisionTreeClassifier | FSDecisionTreeClassifier |\n",
    "| DecisionTreeRegressor  | FSDecisionTreeRegressor  | \n",
    "| RandomForestClassifier | FSRandomForestClassifier | \n",
    "| RandomForestRegressor  | FSRandomForestRegressor  |\n",
    "\n",
    "**Basic** and **Foresight enabled** only differ in one place. In **Basic**, `n_features` features are randomly selected with *uniform weights* for all features, however, in **Foresight enabled**, `n_features` features are randomly selected with *mutual information* used as weights. \n",
    "\n",
    "All the arguments to be sent to both set of classes are the same as well. \n"
   ]
  },
  {
   "cell_type": "code",
   "execution_count": 1,
   "metadata": {
    "collapsed": false
   },
   "outputs": [
    {
     "data": {
      "text/plain": [
       "<module 'TreeMethods.FSRandomForestClassifier' from 'TreeMethods/FSRandomForestClassifier.pyc'>"
      ]
     },
     "execution_count": 1,
     "metadata": {},
     "output_type": "execute_result"
    }
   ],
   "source": [
    "import sys\n",
    "sys.path.append('./TreeMethods/')\n",
    "from TreeMethods import  DecisionTreeClassifier, DecisionTreeRegressor, RandomForestClassifier, RandomForestRegressor\n",
    "from TreeMethods import  FSDecisionTreeRegressor, FSRandomForestClassifier, FSRandomForestRegressor\n",
    "reload(FSRandomForestClassifier)"
   ]
  },
  {
   "cell_type": "code",
   "execution_count": 2,
   "metadata": {
    "collapsed": false
   },
   "outputs": [],
   "source": [
    "import numpy as np\n",
    "import pandas as pd\n",
    "from sklearn.datasets import make_classification as makec\n",
    "from sklearn.datasets import load_wine, load_iris       # classification \n",
    "from sklearn.datasets import load_boston, load_diabetes # regression \n",
    "from sklearn.metrics import classification_report, confusion_matrix"
   ]
  },
  {
   "cell_type": "markdown",
   "metadata": {},
   "source": [
    "## Classification\n",
    "\n",
    "We'll be comparing `FSRandomForestClassifier` with `RandomForestClassifier` to see if `Foresight` leads to any improvement."
   ]
  },
  {
   "cell_type": "code",
   "execution_count": 3,
   "metadata": {
    "collapsed": false
   },
   "outputs": [],
   "source": [
    "w = load_wine()\n",
    "i = load_iris()\n",
    "###\n",
    "wine = pd.DataFrame(w.data,columns=[w.feature_names])\n",
    "wine['Target'] = pd.Series(data=w.target)\n",
    "iris = pd.DataFrame(i.data,columns=[i.feature_names])\n",
    "iris['Target'] = pd.Series(data=i.target)"
   ]
  },
  {
   "cell_type": "code",
   "execution_count": 4,
   "metadata": {
    "collapsed": false
   },
   "outputs": [],
   "source": [
    "rfc   = RandomForestClassifier.RandomForestClassifier(n_trees=10,max_depth=2,min_size=2,cost='gini')\n",
    "fsrfc = FSRandomForestClassifier.FSRandomForestClassifier(n_feat=4,n_trees=10,max_depth=2,min_size=2,cost='gini')"
   ]
  },
  {
   "cell_type": "code",
   "execution_count": 5,
   "metadata": {
    "collapsed": false
   },
   "outputs": [
    {
     "name": "stdout",
     "output_type": "stream",
     "text": [
      "Index([u'alcohol', u'malic_acid', u'ash', u'alcalinity_of_ash', u'magnesium',\n",
      "       u'total_phenols', u'flavanoids', u'nonflavanoid_phenols',\n",
      "       u'proanthocyanins', u'color_intensity', u'hue',\n",
      "       u'od280/od315_of_diluted_wines', u'proline', u'Target'],\n",
      "      dtype='object')\n",
      "Index([u'sepal length (cm)', u'sepal width (cm)', u'petal length (cm)',\n",
      "       u'petal width (cm)', u'Target'],\n",
      "      dtype='object')\n"
     ]
    }
   ],
   "source": [
    "print wine.columns\n",
    "print iris.columns"
   ]
  },
  {
   "cell_type": "code",
   "execution_count": 6,
   "metadata": {
    "collapsed": false,
    "scrolled": true
   },
   "outputs": [
    {
     "name": "stderr",
     "output_type": "stream",
     "text": [
      "/home/shining/anaconda2/lib/python2.7/site-packages/sklearn/utils/validation.py:547: DataConversionWarning: A column-vector y was passed when a 1d array was expected. Please change the shape of y to (n_samples, ), for example using ravel().\n",
      "  y = column_or_1d(y, warn=True)\n",
      "TreeMethods/Foresight.py:196: RuntimeWarning: divide by zero encountered in divide\n",
      "  wgts = 1. / self.mi_features[final_features[-1], get_a_heap_of_features]\n",
      "TreeMethods/Foresight.py:197: RuntimeWarning: invalid value encountered in divide\n",
      "  wgts /= np.sum(wgts)\n",
      "TreeMethods/Foresight.py:200: RuntimeWarning: invalid value encountered in less\n",
      "  final_features.append(np.random.choice(get_a_heap_of_features, size=1, p=wgts)[0])\n"
     ]
    }
   ],
   "source": [
    "rfc.fit(wine,target='Target')\n",
    "fsrfc.fit(wine,target='Target')"
   ]
  },
  {
   "cell_type": "code",
   "execution_count": 7,
   "metadata": {
    "collapsed": true
   },
   "outputs": [],
   "source": [
    "res_nfs = []\n",
    "res_fs  = []\n",
    "for idx in wine.index:\n",
    "    res_nfs.append(rfc.predict(wine.loc[[idx]].squeeze()))\n",
    "    res_fs.append(fsrfc.predict(wine.loc[[idx]].squeeze()))"
   ]
  },
  {
   "cell_type": "code",
   "execution_count": 8,
   "metadata": {
    "collapsed": false
   },
   "outputs": [
    {
     "name": "stdout",
     "output_type": "stream",
     "text": [
      "[[53  0  0]\n",
      " [ 6 71  4]\n",
      " [ 0  0 44]]\n",
      "[[48  0  0]\n",
      " [11 71  4]\n",
      " [ 0  0 44]]\n"
     ]
    }
   ],
   "source": [
    "print confusion_matrix(res_nfs,wine['Target'])\n",
    "print confusion_matrix(res_fs,wine['Target'])"
   ]
  },
  {
   "cell_type": "code",
   "execution_count": 9,
   "metadata": {
    "collapsed": false
   },
   "outputs": [
    {
     "name": "stdout",
     "output_type": "stream",
     "text": [
      "             precision    recall  f1-score   support\n",
      "\n",
      "    class 0       0.90      1.00      0.95        53\n",
      "    class 1       1.00      0.88      0.93        81\n",
      "    class 2       0.92      1.00      0.96        44\n",
      "\n",
      "avg / total       0.95      0.94      0.94       178\n",
      "\n",
      "             precision    recall  f1-score   support\n",
      "\n",
      "    class 0       0.81      1.00      0.90        48\n",
      "    class 1       1.00      0.83      0.90        86\n",
      "    class 2       0.92      1.00      0.96        44\n",
      "\n",
      "avg / total       0.93      0.92      0.92       178\n",
      "\n"
     ]
    }
   ],
   "source": [
    "tn = ['class 0', 'class 1', 'class 2']\n",
    "print classification_report(res_nfs,wine['Target'],target_names=tn)\n",
    "print classification_report(res_fs,wine['Target'],target_names=tn)"
   ]
  },
  {
   "cell_type": "markdown",
   "metadata": {},
   "source": [
    "### Set Get params\n",
    "\n",
    "`RandomForestClassifier RandomForestRegressor FSRandomForestClassifier  FSRandomForestRegressor ` all of them have `setparams` and `getparams` methods. \n",
    "\n",
    "In case of regular Random Forests, dictionary has `max_depth, min_size, n_trees`. In other case of Foresight enabled RF, dictionary additionally has `n_features` too."
   ]
  },
  {
   "cell_type": "code",
   "execution_count": 10,
   "metadata": {
    "collapsed": false
   },
   "outputs": [
    {
     "data": {
      "text/plain": [
       "({'max_depth': 2, 'min_size': 2, 'n_trees': 10},\n",
       " {'max_depth': 2, 'min_size': 2, 'n_features': 4, 'n_trees': 10})"
      ]
     },
     "execution_count": 10,
     "metadata": {},
     "output_type": "execute_result"
    }
   ],
   "source": [
    "rfc.getparams(), fsrfc.getparams()"
   ]
  }
 ],
 "metadata": {
  "kernelspec": {
   "display_name": "Python 2",
   "language": "python",
   "name": "python2"
  },
  "language_info": {
   "codemirror_mode": {
    "name": "ipython",
    "version": 2
   },
   "file_extension": ".py",
   "mimetype": "text/x-python",
   "name": "python",
   "nbconvert_exporter": "python",
   "pygments_lexer": "ipython2",
   "version": "2.7.13"
  },
  "latex_envs": {
   "bibliofile": "biblio.bib",
   "cite_by": "apalike",
   "current_citInitial": 1,
   "eqLabelWithNumbers": true,
   "eqNumInitial": 0
  }
 },
 "nbformat": 4,
 "nbformat_minor": 2
}
