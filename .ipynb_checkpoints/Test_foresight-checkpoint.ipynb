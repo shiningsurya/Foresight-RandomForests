{
 "cells": [
  {
   "cell_type": "code",
   "execution_count": 2,
   "metadata": {
    "collapsed": false,
    "run_control": {
     "marked": true
    }
   },
   "outputs": [
    {
     "name": "stdout",
     "output_type": "stream",
     "text": [
      "0.19.0\n"
     ]
    }
   ],
   "source": [
    "import numpy as np\n",
    "import matplotlib.pyplot as plt\n",
    "import sklearn as  s\n",
    "print s.__version__\n",
    "import numpy as np\n",
    "%matplotlib inline\n",
    "import matplotlib.pyplot as plt\n",
    "\n",
    "from sklearn.datasets import make_classification as makec\n",
    "import sys\n",
    "sys.path.append('./TreeMethods/')\n",
    "import Foresight as Fsht\n",
    "#allow realtime editing of the class \n",
    "reload(Fsht)\n",
    "Foresight = Fsht.Foresight"
   ]
  },
  {
   "cell_type": "markdown",
   "metadata": {},
   "source": [
    "## Test dataset description\n",
    "\n",
    "We make use of `sklearn.datasets.make_classification` method to create classification dataset to provide testing.\n",
    "\n",
    "A sample call to it is as follows:\n",
    "    \n",
    "    make_classification(n_samples, n_features, n_informative, n_redundant, n_repeated, n_classes,...)\n",
    "    \n",
    "    n_samples : int, optional (default=100)\n",
    "    The number of samples.\n",
    "    n_features : int, optional (default=20)\n",
    "    The total number of features. These comprise n_informative informative features, n_redundant redundant features, n_repeated duplicated features and n_features-n_informative-n_redundant- n_repeated useless features drawn at random.\n",
    "    n_informative : int, optional (default=2)\n",
    "    The number of informative features. Each class is composed of a number of gaussian clusters each located around the vertices of a hypercube in a subspace of dimension n_informative. For each cluster, informative features are drawn independently from N(0, 1) and then randomly linearly combined within each cluster in order to add covariance. The clusters are then placed on the vertices of the hypercube.\n",
    "    n_redundant : int, optional (default=2)\n",
    "    The number of redundant features. These features are generated as random linear combinations of the informative features.\n",
    "    n_repeated : int, optional (default=0)\n",
    "    The number of duplicated features, drawn randomly from the informative and the redundant features.\n",
    "    n_classes : int, optional (default=2)\n",
    "    The number of classes (or labels) of the classification problem.\n",
    "    n_clusters_per_class : int, optional (default=2)\n",
    "    The number of clusters per class.\n"
   ]
  },
  {
   "cell_type": "code",
   "execution_count": 4,
   "metadata": {
    "collapsed": false
   },
   "outputs": [],
   "source": [
    "Xd1,yd1 = makec(n_samples=10000, n_features=50, n_informative=5, n_redundant=0, \n",
    "                n_repeated=2, n_classes=4)\n",
    "#Xd1,yd1 = makec(2500, 20, 2, 18, n_classes=2)"
   ]
  },
  {
   "cell_type": "markdown",
   "metadata": {},
   "source": [
    "### First dataset\n",
    "\n",
    "Frequency analysis on the outputted best feature sets. "
   ]
  },
  {
   "cell_type": "code",
   "execution_count": 5,
   "metadata": {
    "collapsed": false
   },
   "outputs": [],
   "source": [
    "fsd1 = Foresight(Xd1, yd1)\n",
    "fsd1.fit()"
   ]
  },
  {
   "cell_type": "code",
   "execution_count": null,
   "metadata": {
    "collapsed": false
   },
   "outputs": [],
   "source": []
  },
  {
   "cell_type": "code",
   "execution_count": 6,
   "metadata": {
    "collapsed": false
   },
   "outputs": [
    {
     "name": "stdout",
     "output_type": "stream",
     "text": [
      "0 0.0\n",
      "1 0.00722990903895\n",
      "2 0.0\n",
      "3 0.0\n",
      "4 0.0\n",
      "5 0.0\n",
      "6 0.0\n",
      "7 0.0\n",
      "8 0.00957188062428\n",
      "9 0.136908785328\n",
      "10 0.0\n",
      "11 0.179527773163\n",
      "12 0.0\n",
      "13 0.012214682822\n",
      "14 0.0\n",
      "15 0.0\n",
      "16 0.00242235297166\n",
      "17 0.0\n",
      "18 0.0\n",
      "19 0.00530372350101\n",
      "20 0.179527773163\n",
      "21 0.0\n",
      "22 0.0\n",
      "23 0.000536867929136\n",
      "24 0.0080127571847\n",
      "25 0.00154039854306\n",
      "26 0.00509339313277\n",
      "27 0.0\n",
      "28 0.0\n",
      "29 0.0\n",
      "30 0.0\n",
      "31 0.0\n",
      "32 0.0\n",
      "33 0.0\n",
      "34 0.0\n",
      "35 0.0081738469134\n",
      "36 0.0139438341544\n",
      "37 0.0\n",
      "38 0.136908785328\n",
      "39 0.103183346927\n",
      "40 0.153280235554\n",
      "41 0.00461184943302\n",
      "42 0.00381217794014\n",
      "43 0.00388174250196\n",
      "44 0.00396655975649\n",
      "45 0.0\n",
      "46 0.0\n",
      "47 0.00302823530355\n",
      "48 0.0131620851492\n",
      "49 0.13032510365\n"
     ]
    }
   ],
   "source": [
    "for i, fxy in  enumerate(fsd1.mi_features_y):\n",
    "    print i, fxy"
   ]
  },
  {
   "cell_type": "code",
   "execution_count": 7,
   "metadata": {
    "collapsed": false
   },
   "outputs": [
    {
     "name": "stderr",
     "output_type": "stream",
     "text": [
      "//anaconda/lib/python2.7/site-packages/sklearn/utils/validation.py:547: DataConversionWarning: A column-vector y was passed when a 1d array was expected. Please change the shape of y to (n_samples, ), for example using ravel().\n",
      "  y = column_or_1d(y, warn=True)\n",
      "./TreeMethods/Foresight.py:165: RuntimeWarning: divide by zero encountered in divide\n",
      "  wgts = 1. / self.mi_features[final_features[-1], get_a_heap_of_features]\n",
      "./TreeMethods/Foresight.py:166: RuntimeWarning: invalid value encountered in divide\n",
      "  wgts /= np.sum(wgts)\n",
      "./TreeMethods/Foresight.py:169: RuntimeWarning: invalid value encountered in less\n",
      "  final_features.append(np.random.choice(get_a_heap_of_features, size=1, p=wgts)[0])\n"
     ]
    }
   ],
   "source": [
    "Nfeats = 3\n",
    "N=1000\n",
    "sel_feats = np.zeros((N, Nfeats))\n",
    "for i in range(N):\n",
    "    sel_feats[i] = fsd1.select_n_features(Nfeats)\n"
   ]
  },
  {
   "cell_type": "code",
   "execution_count": 8,
   "metadata": {
    "collapsed": false
   },
   "outputs": [
    {
     "data": {
      "image/png": "[encoded data removed]",
      "text/plain": [
       "<matplotlib.figure.Figure at 0x10bebd610>"
      ]
     },
     "metadata": {},
     "output_type": "display_data"
    }
   ],
   "source": [
    "_ = plt.hist(np.ravel(sel_feats),bins=np.arange(len(fsd1.mi_features_y))+1)"
   ]
  },
  {
   "cell_type": "code",
   "execution_count": 9,
   "metadata": {
    "collapsed": false
   },
   "outputs": [
    {
     "name": "stdout",
     "output_type": "stream",
     "text": [
      "[[             nan              nan              nan ...,              nan\n",
      "               nan              nan]\n",
      " [             nan              nan              nan ...,   0.00000000e+00\n",
      "    3.38978340e-03   1.23953886e-02]\n",
      " [             nan              nan              nan ...,              nan\n",
      "               nan              nan]\n",
      " ..., \n",
      " [             nan   3.99497540e-03              nan ...,              nan\n",
      "    3.38978340e-03   0.00000000e+00]\n",
      " [             nan   0.00000000e+00              nan ...,   7.95417270e+00\n",
      "               nan   7.95417270e+00]\n",
      " [             nan   5.89275927e-03              nan ...,   0.00000000e+00\n",
      "    0.00000000e+00              nan]]\n"
     ]
    }
   ],
   "source": [
    "print fsd1.mi_features"
   ]
  },
  {
   "cell_type": "code",
   "execution_count": null,
   "metadata": {
    "collapsed": false
   },
   "outputs": [],
   "source": []
  },
  {
   "cell_type": "markdown",
   "metadata": {},
   "source": [
    "## Second dataset"
   ]
  },
  {
   "cell_type": "code",
   "execution_count": null,
   "metadata": {
    "collapsed": true
   },
   "outputs": [],
   "source": [
    "fsd2 = Foresight(Xd2,yd2)\n",
    "fsd2.fit()"
   ]
  },
  {
   "cell_type": "code",
   "execution_count": null,
   "metadata": {
    "collapsed": false,
    "scrolled": true
   },
   "outputs": [],
   "source": [
    "ret2 = []\n",
    "for k in range(1,21):\n",
    "    re = []\n",
    "    failcount2 = 0\n",
    "    for i in xrange(1000):\n",
    "        try:\n",
    "            far = fsd2.select_n_features(k)\n",
    "            re.append(np.array(far))\n",
    "        except ValueError,e:\n",
    "            failcount2 = failcount2 + 1\n",
    "            # print \"Couldn't do it: %s\" % e\n",
    "    print 'The failcount for {0} iteration is {1}'.format(k,failcount2)\n",
    "    ret2.append([np.unique(re,return_counts=True)])"
   ]
  },
  {
   "cell_type": "code",
   "execution_count": null,
   "metadata": {
    "collapsed": false,
    "scrolled": true
   },
   "outputs": [],
   "source": [
    "ret2"
   ]
  },
  {
   "cell_type": "code",
   "execution_count": null,
   "metadata": {
    "collapsed": false,
    "scrolled": false
   },
   "outputs": [],
   "source": [
    "fsd2.mi_features_y"
   ]
  },
  {
   "cell_type": "code",
   "execution_count": null,
   "metadata": {
    "collapsed": false,
    "scrolled": true
   },
   "outputs": [],
   "source": [
    "for x in ret2:\n",
    "    print x[0][1]\n"
   ]
  },
  {
   "cell_type": "code",
   "execution_count": null,
   "metadata": {
    "collapsed": false
   },
   "outputs": [],
   "source": [
    "plt.figure(figsize=(20,10))\n",
    "for i,x in enumerate(ret2):\n",
    "    plt.plot(x[0][0],x[0][1],label=str(i+1))\n",
    "plt.xlabel('Feature ID(Zero based)')\n",
    "plt.ylabel('Frequency')\n",
    "plt.xticks(np.arange(20))\n",
    "plt.title('Frequency analysis')\n",
    "plt.grid(True)\n",
    "plt.legend(loc='best')\n",
    "plt.show()"
   ]
  }
 ],
 "metadata": {
  "anaconda-cloud": {},
  "kernelspec": {
   "display_name": "Python 2",
   "language": "python",
   "name": "python2"
  },
  "language_info": {
   "codemirror_mode": {
    "name": "ipython",
    "version": 2
   },
   "file_extension": ".py",
   "mimetype": "text/x-python",
   "name": "python",
   "nbconvert_exporter": "python",
   "pygments_lexer": "ipython2",
   "version": "2.7.13"
  },
  "latex_envs": {
   "bibliofile": "biblio.bib",
   "cite_by": "apalike",
   "current_citInitial": 1,
   "eqLabelWithNumbers": true,
   "eqNumInitial": 0
  }
 },
 "nbformat": 4,
 "nbformat_minor": 2
}
