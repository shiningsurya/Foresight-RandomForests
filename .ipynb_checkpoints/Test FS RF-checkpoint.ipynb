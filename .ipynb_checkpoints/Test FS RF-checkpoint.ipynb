{
 "cells": [
  {
   "cell_type": "markdown",
   "metadata": {},
   "source": [
    "# Testing Random Forests with Foresight\n",
    "\n",
    "There are two set of objects we'll have to comprehensive test.\n",
    "\n",
    "| Basic                  | Foresight enabled        |\n",
    "|------------------------|--------------------------|\n",
    "| DecisionTreeClassifier | FSDecisionTreeClassifier |\n",
    "| DecisionTreeRegressor  | FSDecisionTreeRegressor  | \n",
    "| RandomForestClassifier | FSRandomForestClassifier | \n",
    "| RandomForestRegressor  | FSRandomForestRegressor  |\n",
    "\n",
    "**Basic** and **Foresight enabled** only differ in one place. In **Basic**, `n_features` features are randomly selected with *uniform weights* for all features, however, in **Foresight enabled**, `n_features` features are randomly selected with *mutual information* used as weights. \n",
    "\n",
    "All the arguments to be sent to both set of classes are the same as well. \n"
   ]
  },
  {
   "cell_type": "code",
   "execution_count": 6,
   "metadata": {
    "collapsed": false
   },
   "outputs": [],
   "source": [
    "from TreeMethods import  DecisionTreeClassifier, DecisionTreeRegressor, RandomForestClassifier, RandomForestRegressor\n",
    "from TreeMethods import  FSDecisionTreeRegressor, FSRandomForestClassifier, FSRandomForestRegressor"
   ]
  },
  {
   "cell_type": "code",
   "execution_count": 73,
   "metadata": {
    "collapsed": false
   },
   "outputs": [],
   "source": [
    "import numpy as np\n",
    "import pandas as pd\n",
    "from sklearn.datasets import make_classification as makec\n",
    "from sklearn.datasets import load_wine, load_iris       # classification \n",
    "from sklearn.datasets import load_boston, load_diabetes # regression \n",
    "from sklearn.metrics import classification_report, confusion_matrix"
   ]
  },
  {
   "cell_type": "markdown",
   "metadata": {},
   "source": [
    "## Classification\n",
    "\n",
    "We'll be comparing `FSRandomForestClassifier` with `RandomForestClassifier` to see if `Foresight` leads to any improvement."
   ]
  },
  {
   "cell_type": "code",
   "execution_count": 40,
   "metadata": {
    "collapsed": false
   },
   "outputs": [],
   "source": [
    "w = load_wine()\n",
    "i = load_iris()\n",
    "###\n",
    "wine = pd.DataFrame(w.data,columns=[w.feature_names])\n",
    "wine['Target'] = pd.Series(data=w.target)\n",
    "iris = pd.DataFrame(i.data,columns=[i.feature_names])\n",
    "iris['Target'] = pd.Series(data=i.target)"
   ]
  },
  {
   "cell_type": "code",
   "execution_count": 46,
   "metadata": {
    "collapsed": false
   },
   "outputs": [],
   "source": [
    "rfc   = RandomForestClassifier.RandomForestClassifier(n_trees=10,max_depth=2,min_size=2,cost='gini')\n",
    "fsrfc = FSRandomForestClassifier.FSRandomForestClassifier(n_trees=10,max_depth=2,min_size=2,cost='gini')"
   ]
  },
  {
   "cell_type": "code",
   "execution_count": 42,
   "metadata": {
    "collapsed": false
   },
   "outputs": [
    {
     "name": "stdout",
     "output_type": "stream",
     "text": [
      "Index([u'alcohol', u'malic_acid', u'ash', u'alcalinity_of_ash', u'magnesium',\n",
      "       u'total_phenols', u'flavanoids', u'nonflavanoid_phenols',\n",
      "       u'proanthocyanins', u'color_intensity', u'hue',\n",
      "       u'od280/od315_of_diluted_wines', u'proline', u'Target'],\n",
      "      dtype='object')\n",
      "Index([u'sepal length (cm)', u'sepal width (cm)', u'petal length (cm)',\n",
      "       u'petal width (cm)', u'Target'],\n",
      "      dtype='object')\n"
     ]
    }
   ],
   "source": [
    "print wine.columns\n",
    "print iris.columns"
   ]
  },
  {
   "cell_type": "code",
   "execution_count": 47,
   "metadata": {
    "collapsed": false,
    "scrolled": true
   },
   "outputs": [
    {
     "name": "stderr",
     "output_type": "stream",
     "text": [
      "TreeMethods/Foresight.py:118: RuntimeWarning: invalid value encountered in divide\n",
      "  wgts = self.mi_features_y / np.sum(self.mi_features_y)\n",
      "TreeMethods/Foresight.py:124: RuntimeWarning: invalid value encountered in greater\n",
      "  if sample_size > np.sum(wgts > 0):\n",
      "TreeMethods/Foresight.py:125: RuntimeWarning: invalid value encountered in greater\n",
      "  sample_size = np.sum(wgts > 0)\n",
      "TreeMethods/Foresight.py:133: RuntimeWarning: invalid value encountered in less\n",
      "  get_a_heap_of_features = np.random.choice(self.d, size=sample_size, replace=False, p=wgts)\n",
      "TreeMethods/Foresight.py:133: RuntimeWarning: invalid value encountered in greater\n",
      "  get_a_heap_of_features = np.random.choice(self.d, size=sample_size, replace=False, p=wgts)\n",
      "TreeMethods/Foresight.py:134: RuntimeWarning: invalid value encountered in less\n",
      "  get_1_feature = np.random.choice(self.d, size=1, replace=False, p=wgts)[0]\n",
      "TreeMethods/Foresight.py:134: RuntimeWarning: invalid value encountered in greater\n",
      "  get_1_feature = np.random.choice(self.d, size=1, replace=False, p=wgts)[0]\n"
     ]
    },
    {
     "ename": "ValueError",
     "evalue": "Fewer non-zero entries in p than size",
     "output_type": "error",
     "traceback": [
      "\u001b[0;31m---------------------------------------------------------------------------\u001b[0m",
      "\u001b[0;31mValueError\u001b[0m                                Traceback (most recent call last)",
      "\u001b[0;32m<ipython-input-47-b8a9255903d5>\u001b[0m in \u001b[0;36m<module>\u001b[0;34m()\u001b[0m\n\u001b[1;32m      1\u001b[0m \u001b[0mrfc\u001b[0m\u001b[0;34m.\u001b[0m\u001b[0mfit\u001b[0m\u001b[0;34m(\u001b[0m\u001b[0mwine\u001b[0m\u001b[0;34m,\u001b[0m\u001b[0mtarget\u001b[0m\u001b[0;34m=\u001b[0m\u001b[0;34m'Target'\u001b[0m\u001b[0;34m)\u001b[0m\u001b[0;34m\u001b[0m\u001b[0m\n\u001b[0;32m----> 2\u001b[0;31m \u001b[0mfsrfc\u001b[0m\u001b[0;34m.\u001b[0m\u001b[0mfit\u001b[0m\u001b[0;34m(\u001b[0m\u001b[0mwine\u001b[0m\u001b[0;34m,\u001b[0m\u001b[0mtarget\u001b[0m\u001b[0;34m=\u001b[0m\u001b[0;34m'Target'\u001b[0m\u001b[0;34m)\u001b[0m\u001b[0;34m\u001b[0m\u001b[0m\n\u001b[0m",
      "\u001b[0;32m/home/shining/mega/MINT/after7_Foresight/RandomForests/TreeMethods/FSRandomForestClassifier.py\u001b[0m in \u001b[0;36mfit\u001b[0;34m(self, train, target, test)\u001b[0m\n\u001b[1;32m     84\u001b[0m \t\t\t\t\t\t\t\t\t\t   self.cost_function)\n\u001b[1;32m     85\u001b[0m \u001b[0;34m\u001b[0m\u001b[0m\n\u001b[0;32m---> 86\u001b[0;31m                         \u001b[0mtree\u001b[0m\u001b[0;34m.\u001b[0m\u001b[0mfit\u001b[0m\u001b[0;34m(\u001b[0m\u001b[0msample\u001b[0m\u001b[0;34m,\u001b[0m \u001b[0mn_features\u001b[0m\u001b[0;34m)\u001b[0m\u001b[0;34m\u001b[0m\u001b[0m\n\u001b[0m\u001b[1;32m     87\u001b[0m                         \u001b[0mself\u001b[0m\u001b[0;34m.\u001b[0m\u001b[0mtrees\u001b[0m\u001b[0;34m.\u001b[0m\u001b[0mappend\u001b[0m\u001b[0;34m(\u001b[0m\u001b[0mtree\u001b[0m\u001b[0;34m)\u001b[0m\u001b[0;34m\u001b[0m\u001b[0m\n\u001b[1;32m     88\u001b[0m \u001b[0;34m\u001b[0m\u001b[0m\n",
      "\u001b[0;32m/home/shining/mega/MINT/after7_Foresight/RandomForests/TreeMethods/FSDecisionTreeClassifier.pyc\u001b[0m in \u001b[0;36mfit\u001b[0;34m(self, train, target, n_features)\u001b[0m\n\u001b[1;32m     64\u001b[0m \t\t\"\"\"\n\u001b[1;32m     65\u001b[0m                 \u001b[0mself\u001b[0m\u001b[0;34m.\u001b[0m\u001b[0mclass_values\u001b[0m \u001b[0;34m=\u001b[0m \u001b[0mlist\u001b[0m\u001b[0;34m(\u001b[0m\u001b[0mset\u001b[0m\u001b[0;34m(\u001b[0m\u001b[0mrow\u001b[0m\u001b[0;34m[\u001b[0m\u001b[0;34m-\u001b[0m\u001b[0;36m1\u001b[0m\u001b[0;34m]\u001b[0m \u001b[0;32mfor\u001b[0m \u001b[0mrow\u001b[0m \u001b[0;32min\u001b[0m \u001b[0mtrain\u001b[0m\u001b[0;34m)\u001b[0m\u001b[0;34m)\u001b[0m\u001b[0;34m\u001b[0m\u001b[0m\n\u001b[0;32m---> 66\u001b[0;31m                 \u001b[0mself\u001b[0m\u001b[0;34m.\u001b[0m\u001b[0m_fit\u001b[0m\u001b[0;34m(\u001b[0m\u001b[0mtrain\u001b[0m\u001b[0;34m,\u001b[0m \u001b[0mtarget\u001b[0m\u001b[0;34m,\u001b[0m \u001b[0mn_features\u001b[0m\u001b[0;34m)\u001b[0m\u001b[0;34m\u001b[0m\u001b[0m\n\u001b[0m\u001b[1;32m     67\u001b[0m \u001b[0;34m\u001b[0m\u001b[0m\n\u001b[1;32m     68\u001b[0m         \u001b[0;32mdef\u001b[0m \u001b[0mpredict\u001b[0m\u001b[0;34m(\u001b[0m\u001b[0mself\u001b[0m\u001b[0;34m,\u001b[0m \u001b[0mrow\u001b[0m\u001b[0;34m)\u001b[0m\u001b[0;34m:\u001b[0m\u001b[0;34m\u001b[0m\u001b[0m\n",
      "\u001b[0;32m/home/shining/mega/MINT/after7_Foresight/RandomForests/TreeMethods/FSDecisionTree.pyc\u001b[0m in \u001b[0;36m_fit\u001b[0;34m(self, train, target, n_features)\u001b[0m\n\u001b[1;32m     72\u001b[0m \u001b[0;34m\u001b[0m\u001b[0m\n\u001b[1;32m     73\u001b[0m                 \u001b[0;31m# perform optimal split for the root\u001b[0m\u001b[0;34m\u001b[0m\u001b[0;34m\u001b[0m\u001b[0m\n\u001b[0;32m---> 74\u001b[0;31m                 \u001b[0mself\u001b[0m\u001b[0;34m.\u001b[0m\u001b[0mroot\u001b[0m \u001b[0;34m=\u001b[0m \u001b[0mself\u001b[0m\u001b[0;34m.\u001b[0m\u001b[0m_get_split\u001b[0m\u001b[0;34m(\u001b[0m\u001b[0mtrain\u001b[0m\u001b[0;34m)\u001b[0m\u001b[0;34m\u001b[0m\u001b[0m\n\u001b[0m\u001b[1;32m     75\u001b[0m \u001b[0;34m\u001b[0m\u001b[0m\n\u001b[1;32m     76\u001b[0m                 \u001b[0;31m# now recurisively split the roots dataset until the stopping\u001b[0m\u001b[0;34m\u001b[0m\u001b[0;34m\u001b[0m\u001b[0m\n",
      "\u001b[0;32m/home/shining/mega/MINT/after7_Foresight/RandomForests/TreeMethods/FSDecisionTree.pyc\u001b[0m in \u001b[0;36m_get_split\u001b[0;34m(self, dataset)\u001b[0m\n\u001b[1;32m    104\u001b[0m                 \u001b[0;31m#       if index not in features:\u001b[0m\u001b[0;34m\u001b[0m\u001b[0;34m\u001b[0m\u001b[0m\n\u001b[1;32m    105\u001b[0m                 \u001b[0;31m#               features.append(index)\u001b[0m\u001b[0;34m\u001b[0m\u001b[0;34m\u001b[0m\u001b[0m\n\u001b[0;32m--> 106\u001b[0;31m                 \u001b[0mfeatures\u001b[0m \u001b[0;34m=\u001b[0m \u001b[0mfs\u001b[0m\u001b[0;34m.\u001b[0m\u001b[0mselect_n_features\u001b[0m\u001b[0;34m(\u001b[0m\u001b[0mself\u001b[0m\u001b[0;34m.\u001b[0m\u001b[0mn_features\u001b[0m\u001b[0;34m)\u001b[0m\u001b[0;34m\u001b[0m\u001b[0m\n\u001b[0m\u001b[1;32m    107\u001b[0m                 \u001b[0;32mif\u001b[0m \u001b[0mlen\u001b[0m\u001b[0;34m(\u001b[0m\u001b[0mfeatures\u001b[0m\u001b[0;34m)\u001b[0m \u001b[0;34m<\u001b[0m \u001b[0mself\u001b[0m\u001b[0;34m.\u001b[0m\u001b[0mn_features\u001b[0m \u001b[0;34m:\u001b[0m\u001b[0;34m\u001b[0m\u001b[0m\n\u001b[1;32m    108\u001b[0m                         \u001b[0;32mprint\u001b[0m \u001b[0;34m\"[!!] Selecting selecting less than what is asked for\"\u001b[0m\u001b[0;34m\u001b[0m\u001b[0m\n",
      "\u001b[0;32m/home/shining/mega/MINT/after7_Foresight/RandomForests/TreeMethods/Foresight.pyc\u001b[0m in \u001b[0;36mselect_n_features\u001b[0;34m(self, n, nn, met)\u001b[0m\n\u001b[1;32m    132\u001b[0m \u001b[0;34m\u001b[0m\u001b[0m\n\u001b[1;32m    133\u001b[0m         \u001b[0mget_a_heap_of_features\u001b[0m \u001b[0;34m=\u001b[0m \u001b[0mnp\u001b[0m\u001b[0;34m.\u001b[0m\u001b[0mrandom\u001b[0m\u001b[0;34m.\u001b[0m\u001b[0mchoice\u001b[0m\u001b[0;34m(\u001b[0m\u001b[0mself\u001b[0m\u001b[0;34m.\u001b[0m\u001b[0md\u001b[0m\u001b[0;34m,\u001b[0m \u001b[0msize\u001b[0m\u001b[0;34m=\u001b[0m\u001b[0msample_size\u001b[0m\u001b[0;34m,\u001b[0m \u001b[0mreplace\u001b[0m\u001b[0;34m=\u001b[0m\u001b[0mFalse\u001b[0m\u001b[0;34m,\u001b[0m \u001b[0mp\u001b[0m\u001b[0;34m=\u001b[0m\u001b[0mwgts\u001b[0m\u001b[0;34m)\u001b[0m\u001b[0;34m\u001b[0m\u001b[0m\n\u001b[0;32m--> 134\u001b[0;31m         \u001b[0mget_1_feature\u001b[0m \u001b[0;34m=\u001b[0m \u001b[0mnp\u001b[0m\u001b[0;34m.\u001b[0m\u001b[0mrandom\u001b[0m\u001b[0;34m.\u001b[0m\u001b[0mchoice\u001b[0m\u001b[0;34m(\u001b[0m\u001b[0mself\u001b[0m\u001b[0;34m.\u001b[0m\u001b[0md\u001b[0m\u001b[0;34m,\u001b[0m \u001b[0msize\u001b[0m\u001b[0;34m=\u001b[0m\u001b[0;36m1\u001b[0m\u001b[0;34m,\u001b[0m \u001b[0mreplace\u001b[0m\u001b[0;34m=\u001b[0m\u001b[0mFalse\u001b[0m\u001b[0;34m,\u001b[0m \u001b[0mp\u001b[0m\u001b[0;34m=\u001b[0m\u001b[0mwgts\u001b[0m\u001b[0;34m)\u001b[0m\u001b[0;34m[\u001b[0m\u001b[0;36m0\u001b[0m\u001b[0;34m]\u001b[0m\u001b[0;34m\u001b[0m\u001b[0m\n\u001b[0m\u001b[1;32m    135\u001b[0m \u001b[0;34m\u001b[0m\u001b[0m\n\u001b[1;32m    136\u001b[0m         \"\"\"\n",
      "\u001b[0;32mmtrand.pyx\u001b[0m in \u001b[0;36mmtrand.RandomState.choice (numpy/random/mtrand/mtrand.c:17579)\u001b[0;34m()\u001b[0m\n",
      "\u001b[0;31mValueError\u001b[0m: Fewer non-zero entries in p than size"
     ]
    }
   ],
   "source": [
    "rfc.fit(wine,target='Target')\n",
    "fsrfc.fit(wine,target='Target')"
   ]
  },
  {
   "cell_type": "code",
   "execution_count": 63,
   "metadata": {
    "collapsed": true
   },
   "outputs": [],
   "source": [
    "res = []\n",
    "for idx in wine.index:\n",
    "    res.append(rfc.predict(wine.loc[[idx]].squeeze()))"
   ]
  },
  {
   "cell_type": "code",
   "execution_count": 74,
   "metadata": {
    "collapsed": false
   },
   "outputs": [
    {
     "name": "stdout",
     "output_type": "stream",
     "text": [
      "[[57  1  0]\n",
      " [ 2 69 10]\n",
      " [ 0  1 38]]\n"
     ]
    }
   ],
   "source": [
    "print confusion_matrix(res,wine['Target'])"
   ]
  },
  {
   "cell_type": "code",
   "execution_count": 71,
   "metadata": {
    "collapsed": false
   },
   "outputs": [
    {
     "name": "stdout",
     "output_type": "stream",
     "text": [
      "             precision    recall  f1-score   support\n",
      "\n",
      "    class 0       0.97      0.98      0.97        58\n",
      "    class 1       0.97      0.85      0.91        81\n",
      "    class 2       0.79      0.97      0.87        39\n",
      "\n",
      "avg / total       0.93      0.92      0.92       178\n",
      "\n"
     ]
    }
   ],
   "source": [
    "tn = ['class 0', 'class 1', 'class 2']\n",
    "print classification_report(res,wine['Target'],target_names=tn)"
   ]
  }
 ],
 "metadata": {
  "kernelspec": {
   "display_name": "Python 2",
   "language": "python",
   "name": "python2"
  },
  "language_info": {
   "codemirror_mode": {
    "name": "ipython",
    "version": 2
   },
   "file_extension": ".py",
   "mimetype": "text/x-python",
   "name": "python",
   "nbconvert_exporter": "python",
   "pygments_lexer": "ipython2",
   "version": "2.7.13"
  }
 },
 "nbformat": 4,
 "nbformat_minor": 2
}
